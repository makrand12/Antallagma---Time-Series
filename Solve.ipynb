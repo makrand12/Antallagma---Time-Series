{
 "cells": [
  {
   "cell_type": "code",
   "execution_count": null,
   "metadata": {
    "collapsed": false,
    "deletable": true,
    "editable": true
   },
   "outputs": [],
   "source": [
    "from sklearn.ensemble import GradientBoostingRegressor\n",
    "import pandas as pd\n",
    "import numpy as np\n",
    "import matplotlib.pyplot as plt"
   ]
  },
  {
   "cell_type": "markdown",
   "metadata": {
    "deletable": true,
    "editable": true
   },
   "source": [
    "# We need to predict the data based on Date hence make the Datetime as the index column"
   ]
  },
  {
   "cell_type": "code",
   "execution_count": null,
   "metadata": {
    "collapsed": false,
    "deletable": true,
    "editable": true
   },
   "outputs": [],
   "source": [
    "train_data=pd.read_csv('train.csv',index_col='Datetime',parse_dates=True)\n",
    "test_data=pd.read_csv('test.csv', index_col='Datetime',parse_dates=True)"
   ]
  },
  {
   "cell_type": "markdown",
   "metadata": {
    "deletable": true,
    "editable": true
   },
   "source": [
    "# Dividing the Training Data\n",
    "As we can see that we need to predict the Price and the Number of Sales, to get to the result we can see that the Number of sales is directly dependent on the Price of the Item\n",
    "Hence Finding the Price of each Item on daily basis can make the prediction of Number of Sales easy \n",
    "\n",
    "Dividing the Training data into Time Series of Price data and the remaining part with Transaction_ID as the index"
   ]
  },
  {
   "cell_type": "code",
   "execution_count": null,
   "metadata": {
    "collapsed": true,
    "deletable": true,
    "editable": true
   },
   "outputs": [],
   "source": [
    "ts=train_data[['Item_ID','Price']]\n",
    "ts_test=test_data[['Item_ID']]"
   ]
  },
  {
   "cell_type": "code",
   "execution_count": null,
   "metadata": {
    "collapsed": false,
    "deletable": true,
    "editable": true
   },
   "outputs": [],
   "source": [
    "ts_train=ts[['Item_ID']]\n",
    "ts_target=ts['Price']"
   ]
  },
  {
   "cell_type": "code",
   "execution_count": null,
   "metadata": {
    "collapsed": false,
    "deletable": true,
    "editable": true
   },
   "outputs": [],
   "source": [
    "gbr=GradientBoostingRegressor(learning_rate=0.02,max_depth=50,max_features=1)"
   ]
  },
  {
   "cell_type": "code",
   "execution_count": null,
   "metadata": {
    "collapsed": false,
    "deletable": true,
    "editable": true
   },
   "outputs": [],
   "source": [
    "gbr.fit(ts_train,ts_target)\n",
    "prediction=gbr.predict(ts_test)"
   ]
  },
  {
   "cell_type": "markdown",
   "metadata": {
    "deletable": true,
    "editable": true
   },
   "source": [
    "# Predicted Value is the Price of the Items in next 6 months\n",
    "appending the Predicted price to the Test_Data and chaning its Index to Transaction_ID and also droping the Item_ID from it."
   ]
  },
  {
   "cell_type": "code",
   "execution_count": null,
   "metadata": {
    "collapsed": true,
    "deletable": true,
    "editable": true
   },
   "outputs": [],
   "source": [
    "test_data.set_index('ID',inplace=True)\n",
    "test_data.drop('Item_ID',1, inplace=True)\n",
    "test_data['Price']=prediction"
   ]
  },
  {
   "cell_type": "code",
   "execution_count": null,
   "metadata": {
    "collapsed": false,
    "deletable": true,
    "editable": true
   },
   "outputs": [],
   "source": [
    "train_data.set_index('ID',inplace=True)\n",
    "target=train_data['Number_Of_Sales']\n",
    "train_data.drop('Item_ID',1,inplace=True)"
   ]
  },
  {
   "cell_type": "code",
   "execution_count": null,
   "metadata": {
    "collapsed": true,
    "deletable": true,
    "editable": true
   },
   "outputs": [],
   "source": [
    "train_data=train_data.fillna(axis=1,method='backfill')"
   ]
  },
  {
   "cell_type": "code",
   "execution_count": null,
   "metadata": {
    "collapsed": false,
    "deletable": true,
    "editable": true
   },
   "outputs": [],
   "source": [
    "gbr=GradientBoostingRegressor(learning_rate=0.02,max_features=4,max_depth=100)\n",
    "gbr.fit(train_data,target)\n",
    "sales_pred=gbr.predict(test_data)"
   ]
  },
  {
   "cell_type": "code",
   "execution_count": null,
   "metadata": {
    "collapsed": true,
    "deletable": true,
    "editable": true
   },
   "outputs": [],
   "source": [
    "test_data['Number_Of_Sales']=sales_pred\n",
    "test_data['Number_Of_Sales']=test_data['Number_Of_Sales'].apply(round).apply(int)"
   ]
  },
  {
   "cell_type": "markdown",
   "metadata": {
    "deletable": true,
    "editable": true
   },
   "source": [
    "# Saving the Result\n",
    "Saving the Result Dataframe to a csv file for future references"
   ]
  },
  {
   "cell_type": "code",
   "execution_count": null,
   "metadata": {
    "collapsed": true,
    "deletable": true,
    "editable": true
   },
   "outputs": [],
   "source": [
    "result=test_data[['Price','Number_Of_Sales']]\n",
    "test_data.to_csv(\"result.csv\",index=True)"
   ]
  }
 ],
 "metadata": {
  "kernelspec": {
   "display_name": "Python 2",
   "language": "python",
   "name": "python2"
  },
  "language_info": {
   "codemirror_mode": {
    "name": "ipython",
    "version": 2
   },
   "file_extension": ".py",
   "mimetype": "text/x-python",
   "name": "python",
   "nbconvert_exporter": "python",
   "pygments_lexer": "ipython2",
   "version": "2.7.12"
  }
 },
 "nbformat": 4,
 "nbformat_minor": 2
}
